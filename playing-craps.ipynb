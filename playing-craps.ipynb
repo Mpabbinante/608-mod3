{
 "cells": [
  {
   "cell_type": "markdown",
   "id": "acceaf52-ac77-4f75-af9c-d72d3283172b",
   "metadata": {},
   "source": [
    "playing-craps - Mike Abbinante"
   ]
  },
  {
   "cell_type": "code",
   "execution_count": 1,
   "id": "e7198118-4d5c-43c3-b8c3-c1e38df10727",
   "metadata": {},
   "outputs": [
    {
     "name": "stdout",
     "output_type": "stream",
     "text": [
      "Face    Frequency\n",
      "   1            0\n",
      "   2          166\n",
      "   3          346\n",
      "   4          528\n",
      "   5          628\n",
      "   6          832\n",
      "   7          992\n",
      "   8          864\n",
      "   9          651\n",
      "  10          511\n",
      "  11          313\n",
      "  12          169\n"
     ]
    }
   ],
   "source": [
    "\"\"\"roll 2 six sided die 6,000 times\"\"\"\n",
    "import random\n",
    "\n",
    "#face frequency counters\n",
    "frequency1 = 0\n",
    "frequency2 = 0\n",
    "frequency3 = 0\n",
    "frequency4 = 0\n",
    "frequency5 = 0\n",
    "frequency6 = 0\n",
    "frequency7 = 0\n",
    "frequency8 = 0\n",
    "frequency9 = 0\n",
    "frequency10 = 0\n",
    "frequency11 = 0\n",
    "frequency12 = 0\n",
    "\n",
    "#6,000 die rolls per \n",
    "trials= 6_000\n",
    "\n",
    "for roll in range(trials):\n",
    "    face= random.randrange(1,7) + random.randrange(1,7)\n",
    "    \n",
    "    #increment appropriate face counter\n",
    "    if face == 1:\n",
    "        frequency1 += 1\n",
    "    elif face == 2:\n",
    "        frequency2 += 1\n",
    "    elif face == 3:\n",
    "        frequency3 += 1\n",
    "    elif face == 4:\n",
    "        frequency4 += 1\n",
    "    elif face == 5:\n",
    "        frequency5 += 1\n",
    "    elif face == 6:\n",
    "        frequency6 += 1\n",
    "    elif face == 7:\n",
    "        frequency7 += 1\n",
    "    elif face == 8:\n",
    "        frequency8 += 1\n",
    "    elif face == 9:\n",
    "        frequency9 += 1\n",
    "    elif face == 10:\n",
    "        frequency10 += 1\n",
    "    elif face == 11:\n",
    "        frequency11 += 1\n",
    "    elif face == 12:\n",
    "        frequency12 += 1\n",
    "print(f'Face{\"Frequency\":>13}')\n",
    "print(f'{1:>4}{frequency1:>13}')\n",
    "print(f'{2:>4}{frequency2:>13}')\n",
    "print(f'{3:>4}{frequency3:>13}')\n",
    "print(f'{4:>4}{frequency4:>13}')\n",
    "print(f'{5:>4}{frequency5:>13}')\n",
    "print(f'{6:>4}{frequency6:>13}')\n",
    "print(f'{7:>4}{frequency7:>13}')\n",
    "print(f'{8:>4}{frequency8:>13}')\n",
    "print(f'{9:>4}{frequency9:>13}')\n",
    "print(f'{10:>4}{frequency10:>13}')\n",
    "print(f'{11:>4}{frequency11:>13}')\n",
    "print(f'{12:>4}{frequency12:>13}')"
   ]
  },
  {
   "cell_type": "code",
   "execution_count": 2,
   "id": "574d6bec-a8b7-45a3-9232-40d49c3f21b4",
   "metadata": {},
   "outputs": [
    {
     "name": "stdout",
     "output_type": "stream",
     "text": [
      "craps: 0.1135\n",
      "Win: 0.2175\n"
     ]
    }
   ],
   "source": [
    "craps= frequency2 + frequency3 + frequency12\n",
    "win = frequency7 + frequency11\n",
    "print('craps:', craps/trials)\n",
    "print('Win:', win/trials)"
   ]
  },
  {
   "cell_type": "code",
   "execution_count": null,
   "id": "a066c373-a9fb-4fc7-89a7-afcfd6acc229",
   "metadata": {},
   "outputs": [],
   "source": []
  }
 ],
 "metadata": {
  "kernelspec": {
   "display_name": "Python 3 (ipykernel)",
   "language": "python",
   "name": "python3"
  },
  "language_info": {
   "codemirror_mode": {
    "name": "ipython",
    "version": 3
   },
   "file_extension": ".py",
   "mimetype": "text/x-python",
   "name": "python",
   "nbconvert_exporter": "python",
   "pygments_lexer": "ipython3",
   "version": "3.9.12"
  }
 },
 "nbformat": 4,
 "nbformat_minor": 5
}
