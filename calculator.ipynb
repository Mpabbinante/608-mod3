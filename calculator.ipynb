{
 "cells": [
  {
   "cell_type": "markdown",
   "id": "d38ffb93-c9a1-47df-bba2-b5d08ac5c9ad",
   "metadata": {},
   "source": [
    " calculator - Mike Abbinante"
   ]
  },
  {
   "cell_type": "code",
   "execution_count": 1,
   "id": "35ef4d7e-cd3b-4c16-9dc1-0578b5c9adf2",
   "metadata": {},
   "outputs": [],
   "source": [
    "import math\n"
   ]
  },
  {
   "cell_type": "code",
   "execution_count": 2,
   "id": "d40635cb-3fe5-4d4b-afbf-9ddfdf6d358f",
   "metadata": {},
   "outputs": [
    {
     "data": {
      "text/plain": [
       "30.0"
      ]
     },
     "execution_count": 2,
     "metadata": {},
     "output_type": "execute_result"
    }
   ],
   "source": [
    "math.sqrt(900)"
   ]
  },
  {
   "cell_type": "code",
   "execution_count": 3,
   "id": "d9ad9481-8236-4515-88c0-14dcd4de4d8e",
   "metadata": {},
   "outputs": [
    {
     "data": {
      "text/plain": [
       "9"
      ]
     },
     "execution_count": 3,
     "metadata": {},
     "output_type": "execute_result"
    }
   ],
   "source": [
    "\n",
    "math.floor(9.2)"
   ]
  }
 ],
 "metadata": {
  "kernelspec": {
   "display_name": "Python 3 (ipykernel)",
   "language": "python",
   "name": "python3"
  },
  "language_info": {
   "codemirror_mode": {
    "name": "ipython",
    "version": 3
   },
   "file_extension": ".py",
   "mimetype": "text/x-python",
   "name": "python",
   "nbconvert_exporter": "python",
   "pygments_lexer": "ipython3",
   "version": "3.9.12"
  }
 },
 "nbformat": 4,
 "nbformat_minor": 5
}
