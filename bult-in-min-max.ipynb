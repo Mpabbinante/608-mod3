{
 "cells": [
  {
   "cell_type": "markdown",
   "id": "2ed33c94-1e6f-48e3-85bc-0ab7e26487e8",
   "metadata": {},
   "source": [
    "bult-in-min-max.py (Sections 4.1, 4.2, 4.3)-Mike Abbinante"
   ]
  },
  {
   "cell_type": "code",
   "execution_count": 1,
   "id": "cfdb28e2-291b-4f6d-9be9-37e0e8cccbdb",
   "metadata": {},
   "outputs": [],
   "source": [
    "def maximum(value1, value2, value3):\n",
    "    \"\"\"return the maximum value of three Values\"\"\" \n",
    "    max_value = value1\n",
    "    if value2 > max_value:\n",
    "        max_value= value2         \n",
    "    if value3 > max_value:\n",
    "        max_value = value3\n",
    "    return max_value\n",
    "    \n"
   ]
  },
  {
   "cell_type": "code",
   "execution_count": 2,
   "id": "adea2a4a-d737-40a4-a730-a182d1ae970d",
   "metadata": {},
   "outputs": [
    {
     "data": {
      "text/plain": [
       "36"
      ]
     },
     "execution_count": 2,
     "metadata": {},
     "output_type": "execute_result"
    }
   ],
   "source": [
    "#function test1\n",
    "\n",
    "maximum(12 ,27, 36)"
   ]
  },
  {
   "cell_type": "code",
   "execution_count": 3,
   "id": "908b4043-03b5-4bd6-9660-ccfd0db2f5e9",
   "metadata": {},
   "outputs": [
    {
     "data": {
      "text/plain": [
       "'yellow'"
      ]
     },
     "execution_count": 3,
     "metadata": {},
     "output_type": "execute_result"
    }
   ],
   "source": [
    "#function test2\n",
    "\n",
    "maximum('yellow', 'red', 'orange')"
   ]
  },
  {
   "cell_type": "code",
   "execution_count": 4,
   "id": "49a15928-19ed-4714-8e60-f5f319bc8afb",
   "metadata": {},
   "outputs": [
    {
     "data": {
      "text/plain": [
       "13.5"
      ]
     },
     "execution_count": 4,
     "metadata": {},
     "output_type": "execute_result"
    }
   ],
   "source": [
    "#function test3\n",
    "\n",
    "maximum(13.5, -3, 7)"
   ]
  },
  {
   "cell_type": "code",
   "execution_count": 5,
   "id": "fcf8017d-fb3d-4feb-b019-814e7c3797c3",
   "metadata": {},
   "outputs": [
    {
     "data": {
      "text/plain": [
       "45.6"
      ]
     },
     "execution_count": 5,
     "metadata": {},
     "output_type": "execute_result"
    }
   ],
   "source": [
    "#function test4\n",
    "\n",
    "maximum(12.3, 45.6, 9.7)"
   ]
  },
  {
   "cell_type": "code",
   "execution_count": 6,
   "id": "c312e6ae-909d-4da4-9002-261a7632d896",
   "metadata": {},
   "outputs": [
    {
     "data": {
      "text/plain": [
       "36"
      ]
     },
     "execution_count": 6,
     "metadata": {},
     "output_type": "execute_result"
    }
   ],
   "source": [
    "#function comfirmation1\n",
    "\n",
    "max(12, 27, 36)"
   ]
  },
  {
   "cell_type": "code",
   "execution_count": 7,
   "id": "ce42b73f-041b-4a13-a40c-e7ad7a74c086",
   "metadata": {},
   "outputs": [
    {
     "data": {
      "text/plain": [
       "'yellow'"
      ]
     },
     "execution_count": 7,
     "metadata": {},
     "output_type": "execute_result"
    }
   ],
   "source": [
    "#function comfirmation2\n",
    "\n",
    "max('yellow', 'red', 'orange')\n"
   ]
  },
  {
   "cell_type": "code",
   "execution_count": 8,
   "id": "f39415e5-59d3-41d9-85cc-5aca67cf580f",
   "metadata": {},
   "outputs": [
    {
     "data": {
      "text/plain": [
       "13.5"
      ]
     },
     "execution_count": 8,
     "metadata": {},
     "output_type": "execute_result"
    }
   ],
   "source": [
    "#function comfirmation3\n",
    "\n",
    "max(13.5, -3, 7)"
   ]
  },
  {
   "cell_type": "code",
   "execution_count": 9,
   "id": "53ec9afc-dce0-41ce-b64f-d8a860144dbb",
   "metadata": {},
   "outputs": [
    {
     "data": {
      "text/plain": [
       "45.6"
      ]
     },
     "execution_count": 9,
     "metadata": {},
     "output_type": "execute_result"
    }
   ],
   "source": [
    "#function comfirmation4\n",
    "\n",
    "max(12.3, 45.6, 9.7)"
   ]
  },
  {
   "cell_type": "code",
   "execution_count": 10,
   "id": "2f46f2da-c5d5-4d66-a5c2-4a72a81c5f4b",
   "metadata": {},
   "outputs": [],
   "source": [
    "def minimum(value1, value2, value3):\n",
    "    \"\"\"return the minimum value of three Values\"\"\" \n",
    "    min_value = value1\n",
    "    if value2 <  min_value:\n",
    "        min_value= value2         \n",
    "    if value3 < min_value:\n",
    "        min_value = value3\n",
    "    return min_value"
   ]
  },
  {
   "cell_type": "code",
   "execution_count": 11,
   "id": "fdf7f412-f045-4931-a759-87184f5b68b6",
   "metadata": {},
   "outputs": [
    {
     "data": {
      "text/plain": [
       "3"
      ]
     },
     "execution_count": 11,
     "metadata": {},
     "output_type": "execute_result"
    }
   ],
   "source": [
    "#function test1\n",
    "\n",
    "minimum(12, 3, 4,)"
   ]
  },
  {
   "cell_type": "code",
   "execution_count": 12,
   "id": "579234ea-0ae3-4e70-b02e-5c9d1071b867",
   "metadata": {},
   "outputs": [
    {
     "data": {
      "text/plain": [
       "12"
      ]
     },
     "execution_count": 12,
     "metadata": {},
     "output_type": "execute_result"
    }
   ],
   "source": [
    "#function test2\n",
    "\n",
    "minimum(12, 27, 36)"
   ]
  },
  {
   "cell_type": "code",
   "execution_count": 13,
   "id": "75b5ede9-2105-4a82-b454-97245d680759",
   "metadata": {},
   "outputs": [
    {
     "data": {
      "text/plain": [
       "'orange'"
      ]
     },
     "execution_count": 13,
     "metadata": {},
     "output_type": "execute_result"
    }
   ],
   "source": [
    "#function test3\n",
    "\n",
    "minimum('yellow', 'red', 'orange')"
   ]
  },
  {
   "cell_type": "code",
   "execution_count": 14,
   "id": "5d118ac9-5b3a-4b66-ad31-1abb9b0a8429",
   "metadata": {},
   "outputs": [
    {
     "data": {
      "text/plain": [
       "12"
      ]
     },
     "execution_count": 14,
     "metadata": {},
     "output_type": "execute_result"
    }
   ],
   "source": [
    "#function test4\n",
    "\n",
    "minimum(12, 27, 36)"
   ]
  },
  {
   "cell_type": "code",
   "execution_count": 15,
   "id": "e2107b1e-82b7-45d7-99e3-e3edb78d2f33",
   "metadata": {},
   "outputs": [
    {
     "data": {
      "text/plain": [
       "3"
      ]
     },
     "execution_count": 15,
     "metadata": {},
     "output_type": "execute_result"
    }
   ],
   "source": [
    "#function comfirmation1\n",
    "\n",
    "min(12, 3, 4,)"
   ]
  },
  {
   "cell_type": "code",
   "execution_count": 16,
   "id": "65e4666d-1af7-4dfb-b204-99abfb36e23b",
   "metadata": {},
   "outputs": [
    {
     "data": {
      "text/plain": [
       "12"
      ]
     },
     "execution_count": 16,
     "metadata": {},
     "output_type": "execute_result"
    }
   ],
   "source": [
    "#function comfirmation2\n",
    "\n",
    "min(12, 27, 36)"
   ]
  },
  {
   "cell_type": "code",
   "execution_count": 17,
   "id": "07f981d7-e84c-4d1a-b741-1c9c1c9d7232",
   "metadata": {},
   "outputs": [
    {
     "data": {
      "text/plain": [
       "'orange'"
      ]
     },
     "execution_count": 17,
     "metadata": {},
     "output_type": "execute_result"
    }
   ],
   "source": [
    "#function comfirmation3\n",
    "\n",
    "min('yellow', 'red', 'orange')"
   ]
  },
  {
   "cell_type": "code",
   "execution_count": 18,
   "id": "c03f02c1-c214-4e08-9b72-fffb8674b8d1",
   "metadata": {},
   "outputs": [
    {
     "data": {
      "text/plain": [
       "12"
      ]
     },
     "execution_count": 18,
     "metadata": {},
     "output_type": "execute_result"
    }
   ],
   "source": [
    "#function comfirmation4\n",
    "\n",
    "min(12, 27, 36)"
   ]
  },
  {
   "cell_type": "markdown",
   "id": "4037602c-ee80-432c-bb10-feb62f4cbc1a",
   "metadata": {},
   "source": [
    "Mike Abbinante"
   ]
  }
 ],
 "metadata": {
  "kernelspec": {
   "display_name": "Python 3 (ipykernel)",
   "language": "python",
   "name": "python3"
  },
  "language_info": {
   "codemirror_mode": {
    "name": "ipython",
    "version": 3
   },
   "file_extension": ".py",
   "mimetype": "text/x-python",
   "name": "python",
   "nbconvert_exporter": "python",
   "pygments_lexer": "ipython3",
   "version": "3.9.12"
  }
 },
 "nbformat": 4,
 "nbformat_minor": 5
}
