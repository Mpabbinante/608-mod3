{
 "cells": [
  {
   "cell_type": "markdown",
   "id": "3d943976-97a5-4c90-833c-4735cb617d0c",
   "metadata": {},
   "source": [
    "Bonus - Mike Abbinante"
   ]
  },
  {
   "cell_type": "code",
   "execution_count": 1,
   "id": "59f38be9-e4b5-4f8b-adab-554c480feb26",
   "metadata": {},
   "outputs": [
    {
     "data": {
      "text/plain": [
       "120"
      ]
     },
     "execution_count": 1,
     "metadata": {},
     "output_type": "execute_result"
    }
   ],
   "source": [
    "#count\n",
    "numbers= (31, 13, 25, 37, 16, 13, 15, 17, 12, 11, 13, 25, 21, 29, 21, 23, 25, 27, 29, 31, 34, 35, 37, 34, 31, 37, 311, 39, 49, 99, 49, 45, 47, 99, 48, 43, 1, 4, 7, 10, 13, 96, 19, 2, 29, 28, 31, 34, 37, 42, 43, 46, 419, 52, 55, 58, 61, 64, 67, 70, 73, 76, 79, 82, 85, 88, 91, 94, 97,\n",
    "13, 5, 45, 49, 53, 57, 61, 65, 69, 73, 77, 8, 89, 93, 97, 11, 15, 19, 13, 17, 11, 12, 19, 13, 13, 11, 14, 19, 13, 17, 11, 99, 19, 17, 17, 11, 15, 18, 13, 19, 21, 20, 20, 23, 87, 9, 99, 99, 12, 12, 2) \n",
    "\n",
    "len(numbers)"
   ]
  },
  {
   "cell_type": "code",
   "execution_count": 2,
   "id": "1931df14-3185-4dee-a460-f4dc82fa768b",
   "metadata": {},
   "outputs": [
    {
     "data": {
      "text/plain": [
       "2613.89"
      ]
     },
     "execution_count": 2,
     "metadata": {},
     "output_type": "execute_result"
    }
   ],
   "source": [
    "#pvariance\n",
    "import statistics\n",
    "\n",
    "round(statistics.pvariance(numbers), 2)"
   ]
  },
  {
   "cell_type": "code",
   "execution_count": 3,
   "id": "529b7fe3-bf9f-4f05-a598-16d86163ee12",
   "metadata": {},
   "outputs": [
    {
     "data": {
      "text/plain": [
       "51.13"
      ]
     },
     "execution_count": 3,
     "metadata": {},
     "output_type": "execute_result"
    }
   ],
   "source": [
    "round(statistics.pstdev(numbers), 2)"
   ]
  }
 ],
 "metadata": {
  "kernelspec": {
   "display_name": "Python 3 (ipykernel)",
   "language": "python",
   "name": "python3"
  },
  "language_info": {
   "codemirror_mode": {
    "name": "ipython",
    "version": 3
   },
   "file_extension": ".py",
   "mimetype": "text/x-python",
   "name": "python",
   "nbconvert_exporter": "python",
   "pygments_lexer": "ipython3",
   "version": "3.9.12"
  }
 },
 "nbformat": 4,
 "nbformat_minor": 5
}
