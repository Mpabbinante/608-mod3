{
 "cells": [
  {
   "cell_type": "markdown",
   "id": "84811615-a83a-4040-ab96-33d1dbb00921",
   "metadata": {},
   "source": [
    "custom-objects - Mike Abbinante"
   ]
  },
  {
   "cell_type": "code",
   "execution_count": 1,
   "id": "0f6a4bd9-b32d-46e0-a82c-16f194455594",
   "metadata": {},
   "outputs": [
    {
     "name": "stdout",
     "output_type": "stream",
     "text": [
      "tax:  7.5\n",
      "tips:  20.0\n",
      "Total:  127.49999999999999\n",
      "Total(rounded):  127.5\n"
     ]
    }
   ],
   "source": [
    "#python Object representing a purchase for a given amount\n",
    "class Purchase(object):\n",
    "    def __init__(self, amount):\n",
    "        self.amount = amount\n",
    "    def calculatetax(self, amount):\n",
    "        return self.amount * taxPercent/100.00\n",
    "    \n",
    "    def calculatetips(self, amount):\n",
    "        return self.amount * tipPercent/100.00\n",
    "    \n",
    "    def calculatetotal(self, taxPercent, tipPercent):\n",
    "        return self.amount *(1+ taxPercent/100.00 + tipPercent/100.00)\n",
    "    \n",
    "#purchase amount\n",
    "\n",
    "purchase = Purchase(100.00)\n",
    "\n",
    "#tax and tip percentage\n",
    "taxPercent = 7.5\n",
    "tipPercent = 20\n",
    "\n",
    "#Object use\n",
    "tax = purchase.calculatetax(taxPercent)\n",
    "tips = purchase.calculatetips(tipPercent)\n",
    "\n",
    "print('tax: ', tax)\n",
    "\n",
    "print('tips: ', tips)\n",
    "\n",
    "print('Total: ', (purchase.calculatetotal(taxPercent, tipPercent)))\n",
    "\n",
    "print('Total(rounded): ', round(purchase.calculatetotal(taxPercent, tipPercent), 2))"
   ]
  }
 ],
 "metadata": {
  "kernelspec": {
   "display_name": "Python 3 (ipykernel)",
   "language": "python",
   "name": "python3"
  },
  "language_info": {
   "codemirror_mode": {
    "name": "ipython",
    "version": 3
   },
   "file_extension": ".py",
   "mimetype": "text/x-python",
   "name": "python",
   "nbconvert_exporter": "python",
   "pygments_lexer": "ipython3",
   "version": "3.9.12"
  }
 },
 "nbformat": 4,
 "nbformat_minor": 5
}
