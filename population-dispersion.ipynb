{
 "cells": [
  {
   "cell_type": "markdown",
   "id": "f08fb139-f455-44f1-9d37-a47d87ff13f6",
   "metadata": {},
   "source": [
    "population-dispersion.py (Section 4.18)-Mike Abbinante"
   ]
  },
  {
   "cell_type": "markdown",
   "id": "bb418534-0562-4560-83b7-5faf90be047e",
   "metadata": {},
   "source": [
    "Dicerolls=(1, 3, 4, 2, 6, 5, 3, 4, 5, 2)"
   ]
  },
  {
   "cell_type": "code",
   "execution_count": 1,
   "id": "9c838fe0-bba2-4a91-9630-ca4c2c3ced60",
   "metadata": {},
   "outputs": [
    {
     "data": {
      "text/plain": [
       "2.25"
      ]
     },
     "execution_count": 1,
     "metadata": {},
     "output_type": "execute_result"
    }
   ],
   "source": [
    "#population variance\n",
    "import statistics\n",
    "\n",
    "Dicerolls=(1, 3, 4, 2, 6, 5, 3, 4, 5, 2)\n",
    "\n",
    "statistics.pvariance(Dicerolls)"
   ]
  },
  {
   "cell_type": "code",
   "execution_count": 2,
   "id": "1e955bca-87f8-470a-a01c-d1df009115af",
   "metadata": {},
   "outputs": [
    {
     "data": {
      "text/plain": [
       "1.5"
      ]
     },
     "execution_count": 2,
     "metadata": {},
     "output_type": "execute_result"
    }
   ],
   "source": [
    "#Standard deviation\n",
    "import statistics\n",
    "\n",
    "Dicerolls=(1, 3, 4, 2, 6, 5, 3, 4, 5, 2)\n",
    "\n",
    "statistics.pstdev(Dicerolls)"
   ]
  },
  {
   "cell_type": "code",
   "execution_count": 4,
   "id": "8f92d4af-9694-42b2-9385-a720516c789b",
   "metadata": {},
   "outputs": [
    {
     "data": {
      "text/plain": [
       "1.5"
      ]
     },
     "execution_count": 4,
     "metadata": {},
     "output_type": "execute_result"
    }
   ],
   "source": [
    "#Standard deviation using sqrt\n",
    "import math\n",
    "\n",
    "import statistics\n",
    "\n",
    "Dicerolls=(1, 3, 4, 2, 6, 5, 3, 4, 5, 2)\n",
    "\n",
    "math.sqrt(statistics.pvariance(Dicerolls))"
   ]
  }
 ],
 "metadata": {
  "kernelspec": {
   "display_name": "Python 3 (ipykernel)",
   "language": "python",
   "name": "python3"
  },
  "language_info": {
   "codemirror_mode": {
    "name": "ipython",
    "version": 3
   },
   "file_extension": ".py",
   "mimetype": "text/x-python",
   "name": "python",
   "nbconvert_exporter": "python",
   "pygments_lexer": "ipython3",
   "version": "3.9.12"
  }
 },
 "nbformat": 4,
 "nbformat_minor": 5
}
